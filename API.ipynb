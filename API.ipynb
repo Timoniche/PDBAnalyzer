{
 "cells": [
  {
   "cell_type": "markdown",
   "metadata": {
    "pycharm": {
     "name": "#%% md\n"
    }
   },
   "source": [
    "analyze_chr_i(i) - i - индекс хромосомы с 0\n",
    "строит графики:\n",
    "- матрица расстояний, сгенерированная из pdb кривой (хитмап)\n",
    "- плотность распределения количества бинов в зависимости от расстояния между ними (в мм)\n",
    "- наблюдаемое значение hic в зависимости от расстояния между бинами,\n",
    "BUCKETS_CNT - расмматриваем пары бинов, попадающие в один бакет по расстоянию между ними.\n",
    "Внутри бакета значения hic усредняются и строится гистограмма.\n",
    "Длина в мм одного бакета max(dist) - min(dist) / BUCKETS_CNT соответственно\n",
    "- основной график анализа хромосомы.\n",
    "Отлогарифмированный предыдущий график, зависимость ln(hic) от ln(dist), к нему применяется\n",
    "линейная регрессия, после этого можно узнать коэффициенты зависимости между\n",
    "hic и матрицей расстояний, сгенерированной из pdb файла\n",
    "\n",
    "Предполагаемая зависимость\n",
    "DIST[i][j] = 1 / HIC[i][j]^factor\n",
    "factor = k^-1\n",
    "i, j - любая пара бинов\n",
    "\n",
    "Некоторые программы по типу 3DMax уже выдают оптимальный factor, с которым строилась кривая в pdb,\n",
    "этот график также позволяет сравнить их распределение с заявленным\n",
    "\n",
    "Также на этом графике прозрачным нарисована плотность распределения (координаты xs были отлогарифмированы для удобства\n",
    "наложения графиков)"
   ]
  },
  {
   "cell_type": "code",
   "execution_count": 32,
   "metadata": {},
   "outputs": [],
   "source": [
    "from main import analyze_chr_i"
   ]
  },
  {
   "cell_type": "code",
   "execution_count": 33,
   "metadata": {
    "pycharm": {
     "name": "#%%\n"
    }
   },
   "outputs": [
    {
     "ename": "TypeError",
     "evalue": "analyze_chr_i() got an unexpected keyword argument 'file_name'",
     "output_type": "error",
     "traceback": [
      "\u001B[0;31m---------------------------------------------------------------------------\u001B[0m",
      "\u001B[0;31mTypeError\u001B[0m                                 Traceback (most recent call last)",
      "\u001B[0;32m<ipython-input-33-c795ffb955ed>\u001B[0m in \u001B[0;36m<module>\u001B[0;34m\u001B[0m\n\u001B[0;32m----> 1\u001B[0;31m \u001B[0manalyze_chr_i\u001B[0m\u001B[0;34m(\u001B[0m\u001B[0;36m0\u001B[0m\u001B[0;34m,\u001B[0m \u001B[0mfile_name\u001B[0m\u001B[0;34m=\u001B[0m\u001B[0;34m'3DMax_chr1.pdb'\u001B[0m\u001B[0;34m)\u001B[0m\u001B[0;34m\u001B[0m\u001B[0;34m\u001B[0m\u001B[0m\n\u001B[0m\u001B[1;32m      2\u001B[0m \u001B[0;34m\u001B[0m\u001B[0m\n",
      "\u001B[0;31mTypeError\u001B[0m: analyze_chr_i() got an unexpected keyword argument 'file_name'"
     ]
    }
   ],
   "source": [
    "analyze_chr_i(0, file_name='3DMax_chr1.pdb')"
   ]
  },
  {
   "cell_type": "markdown",
   "metadata": {
    "pycharm": {
     "name": "#%% md\n"
    }
   },
   "source": [
    "Во время выполнения analyze_chr_i координаты из pdb домножаются так, чтобы длина последовательности\n",
    "соответствовала реальной (в bp)\n",
    "в scaled_pdb_files лежат pdb в правильном размере (todo: не доделан парсер по размеру точки, чтобы рисовало\n",
    "нужно заменять последний 2 столбца, пока что делаю это руками)\n",
    "\n",
    "в PDBUtils есть функции для перевода bp в мм и обратно"
   ]
  },
  {
   "cell_type": "code",
   "execution_count": null,
   "metadata": {
    "pycharm": {
     "name": "#%%\n"
    }
   },
   "outputs": [],
   "source": [
    "from PDBUtils import mm_to_bp, bp_to_mm"
   ]
  },
  {
   "cell_type": "code",
   "execution_count": null,
   "metadata": {
    "pycharm": {
     "name": "#%%\n"
    }
   },
   "outputs": [],
   "source": [
    "mm_to_bp(85)"
   ]
  },
  {
   "cell_type": "code",
   "execution_count": null,
   "metadata": {
    "pycharm": {
     "name": "#%%\n"
    }
   },
   "outputs": [],
   "source": [
    "bp_to_mm(138394717)"
   ]
  },
  {
   "cell_type": "markdown",
   "metadata": {
    "pycharm": {
     "name": "#%% md\n"
    }
   },
   "source": [
    "Коэффициент для перевода был получен с помощью скрипта data/mm_bp_corr.py, сами данные взяты из википедии\n",
    "https://en.wikipedia.org/wiki/Human_genome\n",
    "и продублированны\n",
    "в data/mm_to_bp_wiki.txt\n",
    "\n",
    "во время анализа же использую данные о длине bp из cool файла (длины там немного отличаются)\n",
    "см. Cooler Api\n",
    "https://cooler.readthedocs.io/en/latest/api.html\n",
    "\n",
    "HiCExtractor - удобная обертка для получения нужных мне данных из Cooler API\n",
    "chr_i_hic - получает нужные сведения об i'й хромосоме, а именно\n",
    "- hic матрицу\n",
    "- количество бинов\n",
    "- длину генома в bp"
   ]
  },
  {
   "cell_type": "code",
   "execution_count": null,
   "metadata": {
    "pycharm": {
     "name": "#%%\n"
    }
   },
   "outputs": [],
   "source": [
    "from HiCExtractor import chr_i_hic"
   ]
  },
  {
   "cell_type": "code",
   "execution_count": null,
   "metadata": {
    "pycharm": {
     "name": "#%%\n"
    }
   },
   "outputs": [],
   "source": [
    "hic, bins_cnt, bp = chr_i_hic(filepath='chr/Rao2014-IMR90-MboI-allreps-filtered.500kb.cool', i=0)\n"
   ]
  },
  {
   "cell_type": "markdown",
   "metadata": {
    "pycharm": {
     "name": "#%% md\n"
    }
   },
   "source": [
    "Проделаем то же самое для 2й хромосомы, но для начала сгенерируем hic в удобном для 3DMax формате"
   ]
  },
  {
   "cell_type": "code",
   "execution_count": null,
   "outputs": [],
   "source": [
    "from HiCExtractor import chr_i_hic_to_txt_adj"
   ],
   "metadata": {
    "collapsed": false,
    "pycharm": {
     "name": "#%%\n"
    }
   }
  },
  {
   "cell_type": "code",
   "execution_count": null,
   "outputs": [],
   "source": [
    "chr_i_hic_to_txt_adj(filepath='chr/Rao2014-IMR90-MboI-allreps-filtered.500kb.cool', i=1)\n"
   ],
   "metadata": {
    "collapsed": false,
    "pycharm": {
     "name": "#%%\n"
    }
   }
  },
  {
   "cell_type": "markdown",
   "source": [
    "Проанализируем 2ю хромосму:"
   ],
   "metadata": {
    "collapsed": false,
    "pycharm": {
     "name": "#%% md\n"
    }
   }
  },
  {
   "cell_type": "code",
   "execution_count": null,
   "outputs": [],
   "source": [
    "analyze_chr_i(1, file_name='3DMax_chr2.pdb')\n",
    "\n",
    "\n",
    "\n"
   ],
   "metadata": {
    "collapsed": false,
    "pycharm": {
     "name": "#%%\n"
    }
   }
  },
  {
   "cell_type": "code",
   "execution_count": null,
   "metadata": {},
   "outputs": [],
   "source": []
  }
 ],
 "metadata": {
  "kernelspec": {
   "display_name": "Python 3",
   "language": "python",
   "name": "python3"
  },
  "language_info": {
   "codemirror_mode": {
    "name": "ipython",
    "version": 3
   },
   "file_extension": ".py",
   "mimetype": "text/x-python",
   "name": "python",
   "nbconvert_exporter": "python",
   "pygments_lexer": "ipython3",
   "version": "3.9.0"
  }
 },
 "nbformat": 4,
 "nbformat_minor": 1
}